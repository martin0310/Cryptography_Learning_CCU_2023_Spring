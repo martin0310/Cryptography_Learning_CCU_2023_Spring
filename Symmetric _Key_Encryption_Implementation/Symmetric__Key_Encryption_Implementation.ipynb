{
  "nbformat": 4,
  "nbformat_minor": 0,
  "metadata": {
    "colab": {
      "provenance": []
    },
    "kernelspec": {
      "name": "python3",
      "display_name": "Python 3"
    },
    "language_info": {
      "name": "python"
    }
  },
  "cells": [
    {
      "cell_type": "code",
      "source": [
        "import os\n",
        "import time\n",
        "from base64 import b64encode\n",
        "from cryptography.hazmat.primitives.ciphers import Cipher, algorithms, modes"
      ],
      "metadata": {
        "id": "1zDLnCCxxMV6"
      },
      "execution_count": null,
      "outputs": []
    },
    {
      "cell_type": "code",
      "source": [
        "with open('100MB.txt', 'wb') as f:\n",
        "    f.write(b64encode(os.urandom(1024 * 1024 * 100)))"
      ],
      "metadata": {
        "id": "L6_HvaPhADex"
      },
      "execution_count": null,
      "outputs": []
    },
    {
      "cell_type": "code",
      "source": [
        "with open(\"/content/100MB.txt\") as f:  \n",
        "    data = f.read()"
      ],
      "metadata": {
        "id": "XD6e7DbKJh3P"
      },
      "execution_count": null,
      "outputs": []
    },
    {
      "cell_type": "code",
      "source": [
        "file_size = os.path.getsize('/content/100MB.txt') # Return the file size in bytes \n",
        "file_size"
      ],
      "metadata": {
        "colab": {
          "base_uri": "https://localhost:8080/"
        },
        "id": "FZDmbyKdn6T2",
        "outputId": "e451c626-38be-4e26-b42b-5aa772cb20c2"
      },
      "execution_count": null,
      "outputs": [
        {
          "output_type": "execute_result",
          "data": {
            "text/plain": [
              "139810136"
            ]
          },
          "metadata": {},
          "execution_count": 4
        }
      ]
    },
    {
      "cell_type": "markdown",
      "source": [
        "**AES-CBC mode**"
      ],
      "metadata": {
        "id": "m07PlIel3bvw"
      }
    },
    {
      "cell_type": "code",
      "source": [
        "key = os.urandom(32)\n",
        "iv = os.urandom(16)\n"
      ],
      "metadata": {
        "id": "gCde9IPRt7CB"
      },
      "execution_count": null,
      "outputs": []
    },
    {
      "cell_type": "code",
      "source": [
        "def aes_cbc_encrypt(plainText: str, key: str):\n",
        "  block_size  = 16\n",
        "  plainText = data\n",
        "  padding = (block_size - len(plainText) % block_size) or block_size  \n",
        "  cipher = Cipher(algorithms.AES(key), modes.CBC(iv))\n",
        "  encryptor = cipher.encryptor()\n",
        "  cipherText = encryptor.update(str.encode(plainText + padding * chr(padding))) + encryptor.finalize()\n",
        "  # cipherText = encryptor.update(str.encode(plainText)) + encryptor.finalize()\n",
        "\n",
        "\n",
        "  return cipherText"
      ],
      "metadata": {
        "id": "ibVEfUtoxAyd"
      },
      "execution_count": null,
      "outputs": []
    },
    {
      "cell_type": "code",
      "source": [
        "def aes_cbc_decrypt(cipherText: str, key: str):\n",
        "  cipher = Cipher(algorithms.AES(key), modes.CBC(iv))\n",
        "  decryptor = cipher.decryptor()\n",
        "  plainText = decryptor.update(cipherText) + decryptor.finalize()\n",
        "  plainText = plainText.decode('UTF-8')\n",
        "\n",
        "  return  plainText[:len(plainText) - ord(plainText[-1])]"
      ],
      "metadata": {
        "id": "u-PbrfvGxuSb"
      },
      "execution_count": null,
      "outputs": []
    },
    {
      "cell_type": "code",
      "source": [
        "tic = time.process_time()\n",
        "cipherText = aes_cbc_encrypt(data, key)\n",
        "toc = time.process_time()\n",
        "excution_time = toc - tic\n",
        "print(\" ----- File Size= \" + str(file_size / (1024 * 1024)) + \"MB\")\n",
        "print (\" ----- AES-CBC Mode Computes: \" + str(file_size / excution_time) + \"(bytes / second)\")\n"
      ],
      "metadata": {
        "id": "S9rj3bHtydMg",
        "colab": {
          "base_uri": "https://localhost:8080/"
        },
        "outputId": "dcd0e09c-e7d2-4342-fad3-ccdf657eefdc"
      },
      "execution_count": null,
      "outputs": [
        {
          "output_type": "stream",
          "name": "stdout",
          "text": [
            " ----- File Size= 133.33333587646484MB\n",
            " ----- AES-CBC Mode Computes: 163185730.8453473(bytes / second)\n"
          ]
        }
      ]
    },
    {
      "cell_type": "code",
      "source": [
        "origin_text = aes_cbc_decrypt(cipherText, key)"
      ],
      "metadata": {
        "id": "FXANNHfRyjoe"
      },
      "execution_count": null,
      "outputs": []
    },
    {
      "cell_type": "code",
      "source": [
        "if origin_text.__eq__(data):\n",
        "  print(\"Data is same\")"
      ],
      "metadata": {
        "colab": {
          "base_uri": "https://localhost:8080/"
        },
        "id": "TynfnPG-Pupl",
        "outputId": "968b63e1-cb00-45cc-a8e7-b5961df6a7df"
      },
      "execution_count": null,
      "outputs": [
        {
          "output_type": "stream",
          "name": "stdout",
          "text": [
            "Data is same\n"
          ]
        }
      ]
    },
    {
      "cell_type": "markdown",
      "source": [
        "**AES-CTR mode (counter mode)**"
      ],
      "metadata": {
        "id": "DbvUnEF16Dl2"
      }
    },
    {
      "cell_type": "code",
      "source": [
        "nonce = os.urandom(16)\n",
        "key = os.urandom(32)"
      ],
      "metadata": {
        "id": "tUytD5g1nOul"
      },
      "execution_count": null,
      "outputs": []
    },
    {
      "cell_type": "code",
      "source": [
        "def aes_ctr_encrypt(plainText: str, key: str):\n",
        "  block_size  = 16\n",
        "  plainText = data\n",
        "  # padding = (block_size - len(plainText) % block_size) or block_size  \n",
        "  cipher = Cipher(algorithms.AES(key), modes.CTR(nonce))\n",
        "  encryptor = cipher.encryptor()\n",
        "  cipherText = encryptor.update(str.encode(plainText)) \n",
        "\n",
        "  return cipherText"
      ],
      "metadata": {
        "id": "HDDlK7PV6Ht5"
      },
      "execution_count": null,
      "outputs": []
    },
    {
      "cell_type": "code",
      "source": [
        "def aes_ctr_decrypt(cipherText: str, key: str):\n",
        "  cipher = Cipher(algorithms.AES(key), modes.CTR(nonce))\n",
        "  decryptor = cipher.decryptor()\n",
        "  plainText = decryptor.update(cipherText)\n",
        "  plainText = plainText.decode('UTF-8')\n",
        "\n",
        "  return  plainText\n",
        "  # return plainText"
      ],
      "metadata": {
        "id": "0R5pqKa77ZL5"
      },
      "execution_count": null,
      "outputs": []
    },
    {
      "cell_type": "code",
      "source": [
        "tic = time.process_time()\n",
        "cipherText = aes_ctr_encrypt(data, key)\n",
        "toc = time.process_time()\n",
        "excution_time = toc - tic\n",
        "print(\" ----- File Size= \" + str(file_size / (1024 * 1024)) + \"MB\")\n",
        "print (\" ----- AES-CTR Mode Computes: \" + str(file_size / excution_time) + \"(bytes / second)\")"
      ],
      "metadata": {
        "id": "P9IP90zb7crm",
        "colab": {
          "base_uri": "https://localhost:8080/"
        },
        "outputId": "8cf87244-54ff-48ed-b7d5-4a8acc2b7404"
      },
      "execution_count": null,
      "outputs": [
        {
          "output_type": "stream",
          "name": "stdout",
          "text": [
            " ----- File Size= 133.33333587646484MB\n",
            " ----- AES-CTR Mode Computes: 263792604.9123637(bytes / second)\n"
          ]
        }
      ]
    },
    {
      "cell_type": "code",
      "source": [
        "origin_text = aes_ctr_decrypt(cipherText, key)"
      ],
      "metadata": {
        "id": "dFK0BMA27eC1"
      },
      "execution_count": null,
      "outputs": []
    },
    {
      "cell_type": "code",
      "source": [
        "if origin_text.__eq__(data):\n",
        "  print(\"Data is same\")"
      ],
      "metadata": {
        "colab": {
          "base_uri": "https://localhost:8080/"
        },
        "id": "31InPHN_7fje",
        "outputId": "417285d8-e036-4e23-8932-facba080b0b6"
      },
      "execution_count": null,
      "outputs": [
        {
          "output_type": "stream",
          "name": "stdout",
          "text": [
            "Data is same\n"
          ]
        }
      ]
    },
    {
      "cell_type": "markdown",
      "source": [
        "**ChaCha20**"
      ],
      "metadata": {
        "id": "vti7qiaH3j1M"
      }
    },
    {
      "cell_type": "code",
      "source": [
        "nonce = os.urandom(16)\n",
        "key = os.urandom(32)"
      ],
      "metadata": {
        "id": "n2X_FJtC3tmO"
      },
      "execution_count": null,
      "outputs": []
    },
    {
      "cell_type": "code",
      "source": [
        "def aes_chacha20_encrypt(plainText: str, key: str):\n",
        "  algorithm = algorithms.ChaCha20(key, nonce)\n",
        "  cipher = Cipher(algorithm, mode=None)\n",
        "  encryptor = cipher.encryptor()\n",
        "  cipherText = encryptor.update(str.encode(data))\n",
        "\n",
        "  return cipherText"
      ],
      "metadata": {
        "id": "3k1scymB3xdT"
      },
      "execution_count": null,
      "outputs": []
    },
    {
      "cell_type": "code",
      "source": [
        "def aes_chacha20_decrypt(cipherText: str, key: str):\n",
        "  algorithm = algorithms.ChaCha20(key, nonce)\n",
        "  cipher = Cipher(algorithm, mode=None)\n",
        "  decryptor = cipher.decryptor()\n",
        "  plainText = decryptor.update(cipherText)\n",
        "  plainText = plainText.decode('UTF-8')\n",
        "\n",
        "  return plainText"
      ],
      "metadata": {
        "id": "3--mLEZu3yCC"
      },
      "execution_count": null,
      "outputs": []
    },
    {
      "cell_type": "code",
      "source": [
        "tic = time.process_time()\n",
        "cipherText = aes_chacha20_encrypt(data, key)\n",
        "toc = time.process_time()\n",
        "excution_time = toc - tic\n",
        "print(\" ----- File Size= \" + str(file_size / (1024 * 1024)) + \"MB\")\n",
        "print (\" ----- ChaCha20 Mode Computes: \" + str(file_size / excution_time) + \"(bytes / second)\")"
      ],
      "metadata": {
        "id": "WeLcqQyf46iW",
        "colab": {
          "base_uri": "https://localhost:8080/"
        },
        "outputId": "059e246a-06b3-4f7d-ec39-5e03f10e58b9"
      },
      "execution_count": null,
      "outputs": [
        {
          "output_type": "stream",
          "name": "stdout",
          "text": [
            " ----- File Size= 133.33333587646484MB\n",
            " ----- ChaCha20 Mode Computes: 270927260.368438(bytes / second)\n"
          ]
        }
      ]
    },
    {
      "cell_type": "code",
      "source": [
        "origin_text = aes_chacha20_decrypt(cipherText, key)"
      ],
      "metadata": {
        "id": "SYksMeK047tM"
      },
      "execution_count": null,
      "outputs": []
    },
    {
      "cell_type": "code",
      "source": [
        "if origin_text.__eq__(data):\n",
        "  print(\"Data is same\")"
      ],
      "metadata": {
        "colab": {
          "base_uri": "https://localhost:8080/"
        },
        "id": "iiglQITy49Gr",
        "outputId": "8d19f58e-ab85-41b2-ad06-52172ba2e871"
      },
      "execution_count": null,
      "outputs": [
        {
          "output_type": "stream",
          "name": "stdout",
          "text": [
            "Data is same\n"
          ]
        }
      ]
    }
  ]
}