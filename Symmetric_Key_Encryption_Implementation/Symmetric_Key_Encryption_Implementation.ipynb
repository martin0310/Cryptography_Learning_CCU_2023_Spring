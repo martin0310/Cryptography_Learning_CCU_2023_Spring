{
  "nbformat": 4,
  "nbformat_minor": 0,
  "metadata": {
    "colab": {
      "provenance": []
    },
    "kernelspec": {
      "name": "python3",
      "display_name": "Python 3"
    },
    "language_info": {
      "name": "python"
    }
  },
  "cells": [
    {
      "cell_type": "code",
      "source": [
        "import os\n",
        "import time\n",
        "from base64 import b64encode\n",
        "from cryptography.hazmat.primitives.ciphers import Cipher, algorithms, modes"
      ],
      "metadata": {
        "id": "1zDLnCCxxMV6"
      },
      "execution_count": 247,
      "outputs": []
    },
    {
      "cell_type": "code",
      "source": [
        "with open('100MB.txt', 'wb') as f:\n",
        "    f.write(b64encode(os.urandom(1024 * 1024 * 100)))"
      ],
      "metadata": {
        "id": "L6_HvaPhADex"
      },
      "execution_count": 248,
      "outputs": []
    },
    {
      "cell_type": "code",
      "source": [
        "with open(\"/content/100MB.txt\") as f:  \n",
        "    data = f.read()"
      ],
      "metadata": {
        "id": "XD6e7DbKJh3P"
      },
      "execution_count": 249,
      "outputs": []
    },
    {
      "cell_type": "code",
      "source": [
        "file_size = os.path.getsize('/content/100MB.txt') # Return the file size in bytes \n",
        "file_size"
      ],
      "metadata": {
        "colab": {
          "base_uri": "https://localhost:8080/"
        },
        "id": "FZDmbyKdn6T2",
        "outputId": "7af14e3c-77f5-4ccd-f3fc-dbbf0522de23"
      },
      "execution_count": 250,
      "outputs": [
        {
          "output_type": "execute_result",
          "data": {
            "text/plain": [
              "139810136"
            ]
          },
          "metadata": {},
          "execution_count": 250
        }
      ]
    },
    {
      "cell_type": "markdown",
      "source": [
        "**AES-CBC mode**"
      ],
      "metadata": {
        "id": "m07PlIel3bvw"
      }
    },
    {
      "cell_type": "code",
      "source": [
        "key = os.urandom(32)\n",
        "iv = os.urandom(16)\n"
      ],
      "metadata": {
        "id": "gCde9IPRt7CB"
      },
      "execution_count": 251,
      "outputs": []
    },
    {
      "cell_type": "code",
      "source": [
        "def aes_cbc_encrypt(plainText: str, key: str):\n",
        "  block_size  = 16\n",
        "  plainText = data\n",
        "  padding = (block_size - len(plainText) % block_size) or block_size  \n",
        "  cipher = Cipher(algorithms.AES(key), modes.CBC(iv))\n",
        "  encryptor = cipher.encryptor()\n",
        "  cipherText = encryptor.update(str.encode(plainText + padding * chr(padding))) + encryptor.finalize()\n",
        "  # cipherText = encryptor.update(str.encode(plainText)) + encryptor.finalize()\n",
        "\n",
        "\n",
        "  return cipherText"
      ],
      "metadata": {
        "id": "ibVEfUtoxAyd"
      },
      "execution_count": 252,
      "outputs": []
    },
    {
      "cell_type": "code",
      "source": [
        "def aes_cbc_decrypt(cipherText: str, key: str):\n",
        "  cipher = Cipher(algorithms.AES(key), modes.CBC(iv))\n",
        "  decryptor = cipher.decryptor()\n",
        "  plainText = decryptor.update(cipherText) + decryptor.finalize()\n",
        "  plainText = plainText.decode('UTF-8')\n",
        "\n",
        "  return  plainText[:len(plainText) - ord(plainText[-1])]"
      ],
      "metadata": {
        "id": "u-PbrfvGxuSb"
      },
      "execution_count": 253,
      "outputs": []
    },
    {
      "cell_type": "code",
      "source": [
        "tic = time.process_time()\n",
        "cipherText = aes_cbc_encrypt(data, key)\n",
        "toc = time.process_time()\n",
        "excution_time = toc - tic"
      ],
      "metadata": {
        "id": "S9rj3bHtydMg"
      },
      "execution_count": 254,
      "outputs": []
    },
    {
      "cell_type": "code",
      "source": [
        "origin_text = aes_cbc_decrypt(cipherText, key)"
      ],
      "metadata": {
        "id": "FXANNHfRyjoe"
      },
      "execution_count": 255,
      "outputs": []
    },
    {
      "cell_type": "code",
      "source": [
        "print(\"(1) ----- Size of the Encrypted File= \" + str(file_size / (1024 * 1024)) + \"MB\")\n",
        "print(\"(2) ----- AES-CBC Encryption Speed (Number of Bytes Encrypted per Second): \" + str(file_size / excution_time) + \"(bytes / second)\")\n",
        "\n",
        "if origin_text.__eq__(data):\n",
        "  print(\"(3) Compare the Decrypted File with the Original File to Prove the Correctness of the Implementation:\")\n",
        "  print(\"    Data is same!\") "
      ],
      "metadata": {
        "colab": {
          "base_uri": "https://localhost:8080/"
        },
        "id": "TynfnPG-Pupl",
        "outputId": "ec94163c-c58a-43ba-81e9-5ec4c1a27853"
      },
      "execution_count": 256,
      "outputs": [
        {
          "output_type": "stream",
          "name": "stdout",
          "text": [
            "(1) ----- Size of the Encrypted File= 133.33333587646484MB\n",
            "(2) ----- AES-CBC Encryption Speed (Number of Bytes Encrypted per Second): 145811560.6332567(bytes / second)\n",
            "(3) Compare the Decrypted File with the Original File to Prove the Correctness of the Implementation:\n",
            "    Data is same!\n"
          ]
        }
      ]
    },
    {
      "cell_type": "markdown",
      "source": [
        "**AES-CTR mode (counter mode)**"
      ],
      "metadata": {
        "id": "DbvUnEF16Dl2"
      }
    },
    {
      "cell_type": "code",
      "source": [
        "nonce = os.urandom(16)\n",
        "key = os.urandom(32)"
      ],
      "metadata": {
        "id": "tUytD5g1nOul"
      },
      "execution_count": 257,
      "outputs": []
    },
    {
      "cell_type": "code",
      "source": [
        "def aes_ctr_encrypt(plainText: str, key: str):\n",
        "  block_size  = 16\n",
        "  plainText = data\n",
        "  # padding = (block_size - len(plainText) % block_size) or block_size  \n",
        "  cipher = Cipher(algorithms.AES(key), modes.CTR(nonce))\n",
        "  encryptor = cipher.encryptor()\n",
        "  cipherText = encryptor.update(str.encode(plainText)) \n",
        "\n",
        "  return cipherText"
      ],
      "metadata": {
        "id": "HDDlK7PV6Ht5"
      },
      "execution_count": 258,
      "outputs": []
    },
    {
      "cell_type": "code",
      "source": [
        "def aes_ctr_decrypt(cipherText: str, key: str):\n",
        "  cipher = Cipher(algorithms.AES(key), modes.CTR(nonce))\n",
        "  decryptor = cipher.decryptor()\n",
        "  plainText = decryptor.update(cipherText)\n",
        "  plainText = plainText.decode('UTF-8')\n",
        "\n",
        "  return  plainText\n",
        "  # return plainText"
      ],
      "metadata": {
        "id": "0R5pqKa77ZL5"
      },
      "execution_count": 259,
      "outputs": []
    },
    {
      "cell_type": "code",
      "source": [
        "tic = time.process_time()\n",
        "cipherText = aes_ctr_encrypt(data, key)\n",
        "toc = time.process_time()\n",
        "excution_time = toc - tic"
      ],
      "metadata": {
        "id": "P9IP90zb7crm"
      },
      "execution_count": 260,
      "outputs": []
    },
    {
      "cell_type": "code",
      "source": [
        "origin_text = aes_ctr_decrypt(cipherText, key)"
      ],
      "metadata": {
        "id": "dFK0BMA27eC1"
      },
      "execution_count": 261,
      "outputs": []
    },
    {
      "cell_type": "code",
      "source": [
        "print(\"(1) ----- Size of the Encrypted File= \" + str(file_size / (1024 * 1024)) + \"MB\")\n",
        "print(\"(2) ----- AES-CTR Encryption Speed (Number of Bytes Encrypted per Second): \" + str(file_size / excution_time) + \"(bytes / second)\")\n",
        "\n",
        "if origin_text.__eq__(data):\n",
        "  print(\"(3) Compare the Decrypted File with the Original File to Prove the Correctness of the Implementation:\")\n",
        "  print(\"    Data is same!\") "
      ],
      "metadata": {
        "colab": {
          "base_uri": "https://localhost:8080/"
        },
        "id": "31InPHN_7fje",
        "outputId": "a8a09d04-6055-448e-d571-adec73e44db2"
      },
      "execution_count": 262,
      "outputs": [
        {
          "output_type": "stream",
          "name": "stdout",
          "text": [
            "(1) ----- Size of the Encrypted File= 133.33333587646484MB\n",
            "(2) ----- AES-CTR Encryption Speed (Number of Bytes Encrypted per Second): 250841737.28587577(bytes / second)\n",
            "(3) Compare the Decrypted File with the Original File to Prove the Correctness of the Implementation:\n",
            "    Data is same!\n"
          ]
        }
      ]
    },
    {
      "cell_type": "markdown",
      "source": [
        "**ChaCha20**"
      ],
      "metadata": {
        "id": "vti7qiaH3j1M"
      }
    },
    {
      "cell_type": "code",
      "source": [
        "nonce = os.urandom(16)\n",
        "key = os.urandom(32)"
      ],
      "metadata": {
        "id": "n2X_FJtC3tmO"
      },
      "execution_count": 263,
      "outputs": []
    },
    {
      "cell_type": "code",
      "source": [
        "def aes_chacha20_encrypt(plainText: str, key: str):\n",
        "  algorithm = algorithms.ChaCha20(key, nonce)\n",
        "  cipher = Cipher(algorithm, mode=None)\n",
        "  encryptor = cipher.encryptor()\n",
        "  cipherText = encryptor.update(str.encode(data))\n",
        "\n",
        "  return cipherText"
      ],
      "metadata": {
        "id": "3k1scymB3xdT"
      },
      "execution_count": 264,
      "outputs": []
    },
    {
      "cell_type": "code",
      "source": [
        "def aes_chacha20_decrypt(cipherText: str, key: str):\n",
        "  algorithm = algorithms.ChaCha20(key, nonce)\n",
        "  cipher = Cipher(algorithm, mode=None)\n",
        "  decryptor = cipher.decryptor()\n",
        "  plainText = decryptor.update(cipherText)\n",
        "  plainText = plainText.decode('UTF-8')\n",
        "\n",
        "  return plainText"
      ],
      "metadata": {
        "id": "3--mLEZu3yCC"
      },
      "execution_count": 265,
      "outputs": []
    },
    {
      "cell_type": "code",
      "source": [
        "tic = time.process_time()\n",
        "cipherText = aes_chacha20_encrypt(data, key)\n",
        "toc = time.process_time()\n",
        "excution_time = toc - tic"
      ],
      "metadata": {
        "id": "WeLcqQyf46iW"
      },
      "execution_count": 266,
      "outputs": []
    },
    {
      "cell_type": "code",
      "source": [
        "origin_text = aes_chacha20_decrypt(cipherText, key)"
      ],
      "metadata": {
        "id": "SYksMeK047tM"
      },
      "execution_count": 267,
      "outputs": []
    },
    {
      "cell_type": "code",
      "source": [
        "print(\"(1) ----- Size of the Encrypted File= \" + str(file_size / (1024 * 1024)) + \"MB\")\n",
        "print(\"(2) ----- Encryption Speed (Number of Bytes Encrypted per Second): \" + str(file_size / excution_time) + \"(bytes / second)\")\n",
        "\n",
        "if origin_text.__eq__(data):\n",
        "  print(\"(3) Compare the Decrypted File with the Original File to Prove the Correctness of the Implementation:\")\n",
        "  print(\"    Data is same!\") "
      ],
      "metadata": {
        "colab": {
          "base_uri": "https://localhost:8080/"
        },
        "id": "iiglQITy49Gr",
        "outputId": "8322c27e-7d6d-4b48-df21-062c4a8096d0"
      },
      "execution_count": 268,
      "outputs": [
        {
          "output_type": "stream",
          "name": "stdout",
          "text": [
            "(1) ----- Size of the Encrypted File= 133.33333587646484MB\n",
            "(2) ----- Encryption Speed (Number of Bytes Encrypted per Second): 308903743.9459702(bytes / second)\n",
            "(3) Compare the Decrypted File with the Original File to Prove the Correctness of the Implementation:\n",
            "    Data is same!\n"
          ]
        }
      ]
    }
  ]
}